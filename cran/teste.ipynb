{
  "nbformat": 4,
  "nbformat_minor": 0,
  "metadata": {
    "colab": {
      "provenance": [],
      "authorship_tag": "ABX9TyPeVOH3qV18RTBDJcfptJHo",
      "include_colab_link": true
    },
    "kernelspec": {
      "name": "python3",
      "display_name": "Python 3"
    },
    "language_info": {
      "name": "python"
    }
  },
  "cells": [
    {
      "cell_type": "markdown",
      "metadata": {
        "id": "view-in-github",
        "colab_type": "text"
      },
      "source": [
        "<a href=\"https://colab.research.google.com/github/RogerRlsa/BRI/blob/main/cran/teste.ipynb\" target=\"_parent\"><img src=\"https://colab.research.google.com/assets/colab-badge.svg\" alt=\"Open In Colab\"/></a>"
      ]
    },
    {
      "cell_type": "code",
      "execution_count": null,
      "metadata": {
        "id": "XorjgZARnto-"
      },
      "outputs": [],
      "source": [
        "import timeit\n",
        "from multiprocessing import process\n",
        "\n",
        "def lerColecao(path):\n",
        "    cont = \"\"\n",
        "    with open(path, \"r\") as f:\n",
        "        cont = f.read()\n",
        "    return cont.split(\".I\")\n",
        "\n",
        "def removerLixo(s):\n",
        "    return s.replace(\".T\",\"\").replace(\".A\",\"\").replace(\".B\",\"\").replace(\".W\",\"\")\n",
        "\n",
        "def addIndice(doc):\n",
        "    #doc = doc.split()\n",
        "    indice.append(doc)\n",
        "\n",
        "def extrairExpandir(texto):\n",
        "    return [texto]\n",
        "\n",
        "def comparar(q, i)-> bool:\n",
        "    palavrasQ = set(q[0].split(\" \"))\n",
        "    palavrasD = set(i.split(\" \"))\n",
        "    #print(q)\n",
        "    intdq = palavrasD.intersection(palavrasQ)\n",
        "    #print(palavrasQ)\n",
        "    #print()\n",
        "    #print(len(intdq))\n",
        "    #exit()\n",
        "    if (len(intdq)/len(palavrasQ)) > 0.35:\n",
        "        return True\n",
        "    else:\n",
        "        return False\n",
        "\n",
        "def buscar(q):\n",
        "    resultados = []\n",
        "    for i in enumerate(indice):\n",
        "        if comparar(q,i[1]):\n",
        "            resultados.append(i[0])\n",
        "    return resultados\n",
        "\n",
        "def rankear(resultados):\n",
        "\n",
        "    pass\n",
        "\n",
        "indice = list()\n",
        "\n",
        "#arquivo carn\n",
        "documentos = lerColecao(\"cran.all.1400\")\n",
        "print(\"#docs:\",len(documentos),\"\\n\")\n",
        "\n",
        "antesLixo = timeit.default_timer()\n",
        "\n",
        "for doc in documentos:\n",
        "    doc = removerLixo(doc)\n",
        "    addIndice(doc)\n",
        "    #print(\"#ind:\",len(indice))\n",
        "\n",
        "depoisLixo = timeit.default_timer() - antesLixo\n",
        "\n",
        "print(\"%f\" %(depoisLixo),\"\\n\")\n",
        "\n",
        "#arquivo qry\n",
        "qry = lerColecao(\"cran.qry\")\n",
        "print(\"#qry:\",len(qry),\"\\n\")\n",
        "\n",
        "for con in qry[1:-1]:\n",
        "    #print(con)\n",
        "    consultaLimpa = removerLixo(con)\n",
        "    #print(consultaLimpa)\n",
        "    listaConsulta = extrairExpandir(consultaLimpa)\n",
        "    #print(listaConsulta)\n",
        "    listaResultados = []\n",
        "    resultados = buscar(listaConsulta) # resultados de uma pesquisa\n",
        "\n",
        "    listaResultados.append(resultados) # resultados de todas as pesquisa\n",
        "\n",
        "    rankear(listaResultados)\n",
        "\n",
        "    print(resultados)\n",
        "    break\n",
        "\n",
        "\n",
        "#print(\"docs:\",indice[1])\n",
        "#consultas = lerColecao(\"cran.qry\")\n",
        "#print(\"#qry:\",len(consultas))"
      ]
    }
  ]
}